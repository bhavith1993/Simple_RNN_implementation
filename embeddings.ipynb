{
 "cells": [
  {
   "cell_type": "code",
   "execution_count": 1,
   "metadata": {},
   "outputs": [
    {
     "name": "stdout",
     "output_type": "stream",
     "text": [
      "Requirement already satisfied: tensorflow in c:\\users\\abcde\\appdata\\roaming\\python\\python312\\site-packages (2.16.1)Note: you may need to restart the kernel to use updated packages.\n"
     ]
    },
    {
     "name": "stderr",
     "output_type": "stream",
     "text": [
      "\n",
      "[notice] A new release of pip is available: 24.3.1 -> 25.0\n",
      "[notice] To update, run: python.exe -m pip install --upgrade pip\n"
     ]
    },
    {
     "name": "stdout",
     "output_type": "stream",
     "text": [
      "\n",
      "Requirement already satisfied: tensorflow-intel==2.16.1 in c:\\users\\abcde\\appdata\\roaming\\python\\python312\\site-packages (from tensorflow) (2.16.1)\n",
      "Requirement already satisfied: absl-py>=1.0.0 in c:\\users\\abcde\\appdata\\roaming\\python\\python312\\site-packages (from tensorflow-intel==2.16.1->tensorflow) (2.1.0)\n",
      "Requirement already satisfied: astunparse>=1.6.0 in c:\\users\\abcde\\appdata\\roaming\\python\\python312\\site-packages (from tensorflow-intel==2.16.1->tensorflow) (1.6.3)\n",
      "Requirement already satisfied: flatbuffers>=23.5.26 in c:\\users\\abcde\\appdata\\roaming\\python\\python312\\site-packages (from tensorflow-intel==2.16.1->tensorflow) (24.3.25)\n",
      "Requirement already satisfied: gast!=0.5.0,!=0.5.1,!=0.5.2,>=0.2.1 in c:\\users\\abcde\\appdata\\roaming\\python\\python312\\site-packages (from tensorflow-intel==2.16.1->tensorflow) (0.5.4)\n",
      "Requirement already satisfied: google-pasta>=0.1.1 in c:\\users\\abcde\\appdata\\roaming\\python\\python312\\site-packages (from tensorflow-intel==2.16.1->tensorflow) (0.2.0)\n",
      "Requirement already satisfied: h5py>=3.10.0 in c:\\users\\abcde\\appdata\\roaming\\python\\python312\\site-packages (from tensorflow-intel==2.16.1->tensorflow) (3.11.0)\n",
      "Requirement already satisfied: libclang>=13.0.0 in c:\\users\\abcde\\appdata\\roaming\\python\\python312\\site-packages (from tensorflow-intel==2.16.1->tensorflow) (18.1.1)\n",
      "Requirement already satisfied: ml-dtypes~=0.3.1 in c:\\users\\abcde\\appdata\\roaming\\python\\python312\\site-packages (from tensorflow-intel==2.16.1->tensorflow) (0.3.2)\n",
      "Requirement already satisfied: opt-einsum>=2.3.2 in c:\\users\\abcde\\appdata\\roaming\\python\\python312\\site-packages (from tensorflow-intel==2.16.1->tensorflow) (3.3.0)\n",
      "Requirement already satisfied: packaging in c:\\users\\abcde\\appdata\\roaming\\python\\python312\\site-packages (from tensorflow-intel==2.16.1->tensorflow) (24.0)\n",
      "Requirement already satisfied: protobuf!=4.21.0,!=4.21.1,!=4.21.2,!=4.21.3,!=4.21.4,!=4.21.5,<5.0.0dev,>=3.20.3 in c:\\users\\abcde\\appdata\\roaming\\python\\python312\\site-packages (from tensorflow-intel==2.16.1->tensorflow) (4.25.3)\n",
      "Requirement already satisfied: requests<3,>=2.21.0 in c:\\users\\abcde\\appdata\\roaming\\python\\python312\\site-packages (from tensorflow-intel==2.16.1->tensorflow) (2.31.0)\n",
      "Requirement already satisfied: setuptools in c:\\users\\abcde\\appdata\\roaming\\python\\python312\\site-packages (from tensorflow-intel==2.16.1->tensorflow) (69.5.1)\n",
      "Requirement already satisfied: six>=1.12.0 in c:\\users\\abcde\\appdata\\roaming\\python\\python312\\site-packages (from tensorflow-intel==2.16.1->tensorflow) (1.16.0)\n",
      "Requirement already satisfied: termcolor>=1.1.0 in c:\\users\\abcde\\appdata\\roaming\\python\\python312\\site-packages (from tensorflow-intel==2.16.1->tensorflow) (2.4.0)\n",
      "Requirement already satisfied: typing-extensions>=3.6.6 in c:\\users\\abcde\\appdata\\local\\programs\\python\\python312\\lib\\site-packages (from tensorflow-intel==2.16.1->tensorflow) (4.12.2)\n",
      "Requirement already satisfied: wrapt>=1.11.0 in c:\\users\\abcde\\appdata\\roaming\\python\\python312\\site-packages (from tensorflow-intel==2.16.1->tensorflow) (1.16.0)\n",
      "Requirement already satisfied: grpcio<2.0,>=1.24.3 in c:\\users\\abcde\\appdata\\roaming\\python\\python312\\site-packages (from tensorflow-intel==2.16.1->tensorflow) (1.64.0)\n",
      "Requirement already satisfied: tensorboard<2.17,>=2.16 in c:\\users\\abcde\\appdata\\roaming\\python\\python312\\site-packages (from tensorflow-intel==2.16.1->tensorflow) (2.16.2)\n",
      "Requirement already satisfied: keras>=3.0.0 in c:\\users\\abcde\\appdata\\roaming\\python\\python312\\site-packages (from tensorflow-intel==2.16.1->tensorflow) (3.3.3)\n",
      "Requirement already satisfied: numpy<2.0.0,>=1.26.0 in c:\\users\\abcde\\appdata\\roaming\\python\\python312\\site-packages (from tensorflow-intel==2.16.1->tensorflow) (1.26.4)\n",
      "Requirement already satisfied: wheel<1.0,>=0.23.0 in c:\\users\\abcde\\appdata\\roaming\\python\\python312\\site-packages (from astunparse>=1.6.0->tensorflow-intel==2.16.1->tensorflow) (0.43.0)\n",
      "Requirement already satisfied: rich in c:\\users\\abcde\\appdata\\roaming\\python\\python312\\site-packages (from keras>=3.0.0->tensorflow-intel==2.16.1->tensorflow) (13.7.1)\n",
      "Requirement already satisfied: namex in c:\\users\\abcde\\appdata\\roaming\\python\\python312\\site-packages (from keras>=3.0.0->tensorflow-intel==2.16.1->tensorflow) (0.0.8)\n",
      "Requirement already satisfied: optree in c:\\users\\abcde\\appdata\\roaming\\python\\python312\\site-packages (from keras>=3.0.0->tensorflow-intel==2.16.1->tensorflow) (0.11.0)\n",
      "Requirement already satisfied: charset-normalizer<4,>=2 in c:\\users\\abcde\\appdata\\roaming\\python\\python312\\site-packages (from requests<3,>=2.21.0->tensorflow-intel==2.16.1->tensorflow) (3.3.2)\n",
      "Requirement already satisfied: idna<4,>=2.5 in c:\\users\\abcde\\appdata\\roaming\\python\\python312\\site-packages (from requests<3,>=2.21.0->tensorflow-intel==2.16.1->tensorflow) (3.7)\n",
      "Requirement already satisfied: urllib3<3,>=1.21.1 in c:\\users\\abcde\\appdata\\roaming\\python\\python312\\site-packages (from requests<3,>=2.21.0->tensorflow-intel==2.16.1->tensorflow) (2.2.1)\n",
      "Requirement already satisfied: certifi>=2017.4.17 in c:\\users\\abcde\\appdata\\roaming\\python\\python312\\site-packages (from requests<3,>=2.21.0->tensorflow-intel==2.16.1->tensorflow) (2024.2.2)\n",
      "Requirement already satisfied: markdown>=2.6.8 in c:\\users\\abcde\\appdata\\roaming\\python\\python312\\site-packages (from tensorboard<2.17,>=2.16->tensorflow-intel==2.16.1->tensorflow) (3.6)\n",
      "Requirement already satisfied: tensorboard-data-server<0.8.0,>=0.7.0 in c:\\users\\abcde\\appdata\\roaming\\python\\python312\\site-packages (from tensorboard<2.17,>=2.16->tensorflow-intel==2.16.1->tensorflow) (0.7.2)\n",
      "Requirement already satisfied: werkzeug>=1.0.1 in c:\\users\\abcde\\appdata\\roaming\\python\\python312\\site-packages (from tensorboard<2.17,>=2.16->tensorflow-intel==2.16.1->tensorflow) (3.0.3)\n",
      "Requirement already satisfied: MarkupSafe>=2.1.1 in c:\\users\\abcde\\appdata\\roaming\\python\\python312\\site-packages (from werkzeug>=1.0.1->tensorboard<2.17,>=2.16->tensorflow-intel==2.16.1->tensorflow) (2.1.5)\n",
      "Requirement already satisfied: markdown-it-py>=2.2.0 in c:\\users\\abcde\\appdata\\roaming\\python\\python312\\site-packages (from rich->keras>=3.0.0->tensorflow-intel==2.16.1->tensorflow) (3.0.0)\n",
      "Requirement already satisfied: pygments<3.0.0,>=2.13.0 in c:\\users\\abcde\\appdata\\roaming\\python\\python312\\site-packages (from rich->keras>=3.0.0->tensorflow-intel==2.16.1->tensorflow) (2.18.0)\n",
      "Requirement already satisfied: mdurl~=0.1 in c:\\users\\abcde\\appdata\\roaming\\python\\python312\\site-packages (from markdown-it-py>=2.2.0->rich->keras>=3.0.0->tensorflow-intel==2.16.1->tensorflow) (0.1.2)\n"
     ]
    }
   ],
   "source": [
    "pip install tensorflow"
   ]
  },
  {
   "cell_type": "code",
   "execution_count": 2,
   "metadata": {},
   "outputs": [],
   "source": [
    "import tensorflow as tf\n",
    "import numpy as np"
   ]
  },
  {
   "cell_type": "code",
   "execution_count": 3,
   "metadata": {},
   "outputs": [],
   "source": [
    "from tensorflow.keras.preprocessing.text import one_hot"
   ]
  },
  {
   "cell_type": "code",
   "execution_count": 5,
   "metadata": {},
   "outputs": [],
   "source": [
    "## Setences \n",
    "sent = ['the glass of milk',\n",
    "    'the glass of juice',\n",
    "    'the cup of tea',\n",
    "    'I am a good boy',\n",
    "    'I am a good developer',\n",
    "    'understand the meaning of words',\n",
    "    'your videos are good']\n"
   ]
  },
  {
   "cell_type": "code",
   "execution_count": 7,
   "metadata": {},
   "outputs": [
    {
     "name": "stdout",
     "output_type": "stream",
     "text": [
      "[[7948, 7999, 8886, 4338], [7948, 7999, 8886, 2155], [7948, 9176, 8886, 4118], [3890, 1230, 6999, 2666, 9295], [3890, 1230, 6999, 2666, 1428], [5315, 7948, 463, 8886, 9435], [6805, 1987, 8468, 2666]]\n"
     ]
    }
   ],
   "source": [
    "## Defin the vocabulary size\n",
    "vocab_size = 10000\n",
    "## One hot representation\n",
    "onehot_repr = [one_hot(words,vocab_size) for words in sent]\n",
    "print(onehot_repr)"
   ]
  },
  {
   "cell_type": "code",
   "execution_count": 8,
   "metadata": {},
   "outputs": [
    {
     "data": {
      "text/plain": [
       "[[7948, 7999, 8886, 4338],\n",
       " [7948, 7999, 8886, 2155],\n",
       " [7948, 9176, 8886, 4118],\n",
       " [3890, 1230, 6999, 2666, 9295],\n",
       " [3890, 1230, 6999, 2666, 1428],\n",
       " [5315, 7948, 463, 8886, 9435],\n",
       " [6805, 1987, 8468, 2666]]"
      ]
     },
     "execution_count": 8,
     "metadata": {},
     "output_type": "execute_result"
    }
   ],
   "source": [
    "onehot_repr"
   ]
  },
  {
   "cell_type": "code",
   "execution_count": 9,
   "metadata": {},
   "outputs": [],
   "source": [
    "# Word embedding representation\n",
    "\n",
    "from tensorflow.keras.layers import Embedding\n",
    "from tensorflow.keras.preprocessing.sequence import pad_sequences\n",
    "from tensorflow.keras.models import Sequential\n",
    "from tensorflow.keras.layers import Dense, Dropout, Activation, Embedding, Flatten\n"
   ]
  },
  {
   "cell_type": "code",
   "execution_count": 10,
   "metadata": {},
   "outputs": [
    {
     "name": "stdout",
     "output_type": "stream",
     "text": [
      "[[   0    0    0    0 7948 7999 8886 4338]\n",
      " [   0    0    0    0 7948 7999 8886 2155]\n",
      " [   0    0    0    0 7948 9176 8886 4118]\n",
      " [   0    0    0 3890 1230 6999 2666 9295]\n",
      " [   0    0    0 3890 1230 6999 2666 1428]\n",
      " [   0    0    0 5315 7948  463 8886 9435]\n",
      " [   0    0    0    0 6805 1987 8468 2666]]\n"
     ]
    }
   ],
   "source": [
    "sent_length = 8\n",
    "embedded_docs = pad_sequences(onehot_repr,padding='pre',maxlen=sent_length)\n",
    "print(embedded_docs)"
   ]
  },
  {
   "cell_type": "code",
   "execution_count": 11,
   "metadata": {},
   "outputs": [
    {
     "name": "stderr",
     "output_type": "stream",
     "text": [
      "C:\\Users\\abcde\\AppData\\Roaming\\Python\\Python312\\site-packages\\keras\\src\\layers\\core\\embedding.py:90: UserWarning: Argument `input_length` is deprecated. Just remove it.\n",
      "  warnings.warn(\n"
     ]
    }
   ],
   "source": [
    "## Feature representation\n",
    "embedding_vector_features = 10\n",
    "model = Sequential()\n",
    "model.add(Embedding(vocab_size,embedding_vector_features,input_length=sent_length))\n",
    "model.compile('adam','mse')"
   ]
  },
  {
   "cell_type": "code",
   "execution_count": 12,
   "metadata": {},
   "outputs": [
    {
     "data": {
      "text/html": [
       "<pre style=\"white-space:pre;overflow-x:auto;line-height:normal;font-family:Menlo,'DejaVu Sans Mono',consolas,'Courier New',monospace\"><span style=\"font-weight: bold\">Model: \"sequential\"</span>\n",
       "</pre>\n"
      ],
      "text/plain": [
       "\u001b[1mModel: \"sequential\"\u001b[0m\n"
      ]
     },
     "metadata": {},
     "output_type": "display_data"
    },
    {
     "data": {
      "text/html": [
       "<pre style=\"white-space:pre;overflow-x:auto;line-height:normal;font-family:Menlo,'DejaVu Sans Mono',consolas,'Courier New',monospace\">┏━━━━━━━━━━━━━━━━━━━━━━━━━━━━━━━━━┳━━━━━━━━━━━━━━━━━━━━━━━━┳━━━━━━━━━━━━━━━┓\n",
       "┃<span style=\"font-weight: bold\"> Layer (type)                    </span>┃<span style=\"font-weight: bold\"> Output Shape           </span>┃<span style=\"font-weight: bold\">       Param # </span>┃\n",
       "┡━━━━━━━━━━━━━━━━━━━━━━━━━━━━━━━━━╇━━━━━━━━━━━━━━━━━━━━━━━━╇━━━━━━━━━━━━━━━┩\n",
       "│ embedding (<span style=\"color: #0087ff; text-decoration-color: #0087ff\">Embedding</span>)           │ ?                      │   <span style=\"color: #00af00; text-decoration-color: #00af00\">0</span> (unbuilt) │\n",
       "└─────────────────────────────────┴────────────────────────┴───────────────┘\n",
       "</pre>\n"
      ],
      "text/plain": [
       "┏━━━━━━━━━━━━━━━━━━━━━━━━━━━━━━━━━┳━━━━━━━━━━━━━━━━━━━━━━━━┳━━━━━━━━━━━━━━━┓\n",
       "┃\u001b[1m \u001b[0m\u001b[1mLayer (type)                   \u001b[0m\u001b[1m \u001b[0m┃\u001b[1m \u001b[0m\u001b[1mOutput Shape          \u001b[0m\u001b[1m \u001b[0m┃\u001b[1m \u001b[0m\u001b[1m      Param #\u001b[0m\u001b[1m \u001b[0m┃\n",
       "┡━━━━━━━━━━━━━━━━━━━━━━━━━━━━━━━━━╇━━━━━━━━━━━━━━━━━━━━━━━━╇━━━━━━━━━━━━━━━┩\n",
       "│ embedding (\u001b[38;5;33mEmbedding\u001b[0m)           │ ?                      │   \u001b[38;5;34m0\u001b[0m (unbuilt) │\n",
       "└─────────────────────────────────┴────────────────────────┴───────────────┘\n"
      ]
     },
     "metadata": {},
     "output_type": "display_data"
    },
    {
     "data": {
      "text/html": [
       "<pre style=\"white-space:pre;overflow-x:auto;line-height:normal;font-family:Menlo,'DejaVu Sans Mono',consolas,'Courier New',monospace\"><span style=\"font-weight: bold\"> Total params: </span><span style=\"color: #00af00; text-decoration-color: #00af00\">0</span> (0.00 B)\n",
       "</pre>\n"
      ],
      "text/plain": [
       "\u001b[1m Total params: \u001b[0m\u001b[38;5;34m0\u001b[0m (0.00 B)\n"
      ]
     },
     "metadata": {},
     "output_type": "display_data"
    },
    {
     "data": {
      "text/html": [
       "<pre style=\"white-space:pre;overflow-x:auto;line-height:normal;font-family:Menlo,'DejaVu Sans Mono',consolas,'Courier New',monospace\"><span style=\"font-weight: bold\"> Trainable params: </span><span style=\"color: #00af00; text-decoration-color: #00af00\">0</span> (0.00 B)\n",
       "</pre>\n"
      ],
      "text/plain": [
       "\u001b[1m Trainable params: \u001b[0m\u001b[38;5;34m0\u001b[0m (0.00 B)\n"
      ]
     },
     "metadata": {},
     "output_type": "display_data"
    },
    {
     "data": {
      "text/html": [
       "<pre style=\"white-space:pre;overflow-x:auto;line-height:normal;font-family:Menlo,'DejaVu Sans Mono',consolas,'Courier New',monospace\"><span style=\"font-weight: bold\"> Non-trainable params: </span><span style=\"color: #00af00; text-decoration-color: #00af00\">0</span> (0.00 B)\n",
       "</pre>\n"
      ],
      "text/plain": [
       "\u001b[1m Non-trainable params: \u001b[0m\u001b[38;5;34m0\u001b[0m (0.00 B)\n"
      ]
     },
     "metadata": {},
     "output_type": "display_data"
    }
   ],
   "source": [
    "model.summary()"
   ]
  },
  {
   "cell_type": "code",
   "execution_count": 14,
   "metadata": {},
   "outputs": [
    {
     "data": {
      "text/plain": [
       "array([   0,    0,    0,    0, 7948, 7999, 8886, 4338])"
      ]
     },
     "execution_count": 14,
     "metadata": {},
     "output_type": "execute_result"
    }
   ],
   "source": [
    "embedded_docs[0]"
   ]
  },
  {
   "cell_type": "code",
   "execution_count": 13,
   "metadata": {},
   "outputs": [
    {
     "name": "stdout",
     "output_type": "stream",
     "text": [
      "\u001b[1m1/1\u001b[0m \u001b[32m━━━━━━━━━━━━━━━━━━━━\u001b[0m\u001b[37m\u001b[0m \u001b[1m0s\u001b[0m 374ms/step\n"
     ]
    },
    {
     "data": {
      "text/plain": [
       "array([[[-0.03703034, -0.02573617,  0.02210415,  0.03003687,\n",
       "          0.03004918,  0.00258185, -0.03069384, -0.02059245,\n",
       "         -0.04027193, -0.0317071 ],\n",
       "        [-0.03703034, -0.02573617,  0.02210415,  0.03003687,\n",
       "          0.03004918,  0.00258185, -0.03069384, -0.02059245,\n",
       "         -0.04027193, -0.0317071 ],\n",
       "        [-0.03703034, -0.02573617,  0.02210415,  0.03003687,\n",
       "          0.03004918,  0.00258185, -0.03069384, -0.02059245,\n",
       "         -0.04027193, -0.0317071 ],\n",
       "        [-0.03703034, -0.02573617,  0.02210415,  0.03003687,\n",
       "          0.03004918,  0.00258185, -0.03069384, -0.02059245,\n",
       "         -0.04027193, -0.0317071 ],\n",
       "        [ 0.00609369, -0.04163704, -0.0432124 , -0.04835493,\n",
       "         -0.03664433, -0.00322568,  0.0346309 , -0.03278437,\n",
       "         -0.02486088, -0.01143651],\n",
       "        [ 0.02607169, -0.01256858,  0.00360627, -0.0340293 ,\n",
       "         -0.04639433,  0.01517142, -0.03519074, -0.01205186,\n",
       "          0.02074223,  0.02428177],\n",
       "        [-0.00626975, -0.0255417 , -0.0031038 , -0.04520549,\n",
       "         -0.02714704, -0.04198768, -0.03075204,  0.0480497 ,\n",
       "          0.02622021, -0.02502558],\n",
       "        [ 0.01039648,  0.01226145,  0.03482993, -0.03041186,\n",
       "         -0.00748947,  0.02655875, -0.03900548,  0.02739945,\n",
       "         -0.04480995, -0.04947815]],\n",
       "\n",
       "       [[-0.03703034, -0.02573617,  0.02210415,  0.03003687,\n",
       "          0.03004918,  0.00258185, -0.03069384, -0.02059245,\n",
       "         -0.04027193, -0.0317071 ],\n",
       "        [-0.03703034, -0.02573617,  0.02210415,  0.03003687,\n",
       "          0.03004918,  0.00258185, -0.03069384, -0.02059245,\n",
       "         -0.04027193, -0.0317071 ],\n",
       "        [-0.03703034, -0.02573617,  0.02210415,  0.03003687,\n",
       "          0.03004918,  0.00258185, -0.03069384, -0.02059245,\n",
       "         -0.04027193, -0.0317071 ],\n",
       "        [-0.03703034, -0.02573617,  0.02210415,  0.03003687,\n",
       "          0.03004918,  0.00258185, -0.03069384, -0.02059245,\n",
       "         -0.04027193, -0.0317071 ],\n",
       "        [ 0.00609369, -0.04163704, -0.0432124 , -0.04835493,\n",
       "         -0.03664433, -0.00322568,  0.0346309 , -0.03278437,\n",
       "         -0.02486088, -0.01143651],\n",
       "        [ 0.02607169, -0.01256858,  0.00360627, -0.0340293 ,\n",
       "         -0.04639433,  0.01517142, -0.03519074, -0.01205186,\n",
       "          0.02074223,  0.02428177],\n",
       "        [-0.00626975, -0.0255417 , -0.0031038 , -0.04520549,\n",
       "         -0.02714704, -0.04198768, -0.03075204,  0.0480497 ,\n",
       "          0.02622021, -0.02502558],\n",
       "        [-0.03369643,  0.03419637, -0.00350908, -0.02515208,\n",
       "          0.00821929,  0.005111  , -0.01952407,  0.02389676,\n",
       "         -0.00032168,  0.03209857]],\n",
       "\n",
       "       [[-0.03703034, -0.02573617,  0.02210415,  0.03003687,\n",
       "          0.03004918,  0.00258185, -0.03069384, -0.02059245,\n",
       "         -0.04027193, -0.0317071 ],\n",
       "        [-0.03703034, -0.02573617,  0.02210415,  0.03003687,\n",
       "          0.03004918,  0.00258185, -0.03069384, -0.02059245,\n",
       "         -0.04027193, -0.0317071 ],\n",
       "        [-0.03703034, -0.02573617,  0.02210415,  0.03003687,\n",
       "          0.03004918,  0.00258185, -0.03069384, -0.02059245,\n",
       "         -0.04027193, -0.0317071 ],\n",
       "        [-0.03703034, -0.02573617,  0.02210415,  0.03003687,\n",
       "          0.03004918,  0.00258185, -0.03069384, -0.02059245,\n",
       "         -0.04027193, -0.0317071 ],\n",
       "        [ 0.00609369, -0.04163704, -0.0432124 , -0.04835493,\n",
       "         -0.03664433, -0.00322568,  0.0346309 , -0.03278437,\n",
       "         -0.02486088, -0.01143651],\n",
       "        [-0.04123862,  0.03538752, -0.02829179, -0.03780066,\n",
       "         -0.0253626 , -0.00015486,  0.02158442,  0.01604731,\n",
       "         -0.02747545, -0.02083081],\n",
       "        [-0.00626975, -0.0255417 , -0.0031038 , -0.04520549,\n",
       "         -0.02714704, -0.04198768, -0.03075204,  0.0480497 ,\n",
       "          0.02622021, -0.02502558],\n",
       "        [ 0.01933017, -0.02696458, -0.03927808, -0.01074322,\n",
       "          0.03803437,  0.00797887,  0.01478578,  0.01720626,\n",
       "          0.02881488,  0.04799812]],\n",
       "\n",
       "       [[-0.03703034, -0.02573617,  0.02210415,  0.03003687,\n",
       "          0.03004918,  0.00258185, -0.03069384, -0.02059245,\n",
       "         -0.04027193, -0.0317071 ],\n",
       "        [-0.03703034, -0.02573617,  0.02210415,  0.03003687,\n",
       "          0.03004918,  0.00258185, -0.03069384, -0.02059245,\n",
       "         -0.04027193, -0.0317071 ],\n",
       "        [-0.03703034, -0.02573617,  0.02210415,  0.03003687,\n",
       "          0.03004918,  0.00258185, -0.03069384, -0.02059245,\n",
       "         -0.04027193, -0.0317071 ],\n",
       "        [-0.04510669, -0.00827061, -0.02815953,  0.04397679,\n",
       "         -0.03905927, -0.04112768, -0.02663739, -0.0288834 ,\n",
       "          0.00054796,  0.01927066],\n",
       "        [ 0.02095676, -0.01232497, -0.03483284,  0.0328941 ,\n",
       "          0.03835073,  0.01693462, -0.00664473, -0.02100024,\n",
       "         -0.03922036, -0.00046052],\n",
       "        [ 0.02938713, -0.03286024,  0.01864834,  0.02418837,\n",
       "          0.04556647,  0.02828315, -0.04486975, -0.02065094,\n",
       "         -0.01815443,  0.04026249],\n",
       "        [ 0.00928469, -0.04244244, -0.0364705 ,  0.00789421,\n",
       "          0.01534854,  0.00527681, -0.04754914,  0.03911812,\n",
       "         -0.04373522, -0.02442957],\n",
       "        [ 0.04932714,  0.048947  , -0.04585011, -0.00079077,\n",
       "         -0.00630661, -0.00286812, -0.03531503,  0.0457459 ,\n",
       "          0.01160226, -0.02117004]],\n",
       "\n",
       "       [[-0.03703034, -0.02573617,  0.02210415,  0.03003687,\n",
       "          0.03004918,  0.00258185, -0.03069384, -0.02059245,\n",
       "         -0.04027193, -0.0317071 ],\n",
       "        [-0.03703034, -0.02573617,  0.02210415,  0.03003687,\n",
       "          0.03004918,  0.00258185, -0.03069384, -0.02059245,\n",
       "         -0.04027193, -0.0317071 ],\n",
       "        [-0.03703034, -0.02573617,  0.02210415,  0.03003687,\n",
       "          0.03004918,  0.00258185, -0.03069384, -0.02059245,\n",
       "         -0.04027193, -0.0317071 ],\n",
       "        [-0.04510669, -0.00827061, -0.02815953,  0.04397679,\n",
       "         -0.03905927, -0.04112768, -0.02663739, -0.0288834 ,\n",
       "          0.00054796,  0.01927066],\n",
       "        [ 0.02095676, -0.01232497, -0.03483284,  0.0328941 ,\n",
       "          0.03835073,  0.01693462, -0.00664473, -0.02100024,\n",
       "         -0.03922036, -0.00046052],\n",
       "        [ 0.02938713, -0.03286024,  0.01864834,  0.02418837,\n",
       "          0.04556647,  0.02828315, -0.04486975, -0.02065094,\n",
       "         -0.01815443,  0.04026249],\n",
       "        [ 0.00928469, -0.04244244, -0.0364705 ,  0.00789421,\n",
       "          0.01534854,  0.00527681, -0.04754914,  0.03911812,\n",
       "         -0.04373522, -0.02442957],\n",
       "        [ 0.03137106,  0.03613463,  0.03660592,  0.01732123,\n",
       "         -0.01837263, -0.01974573, -0.04485549, -0.0263419 ,\n",
       "         -0.03380652, -0.01376797]],\n",
       "\n",
       "       [[-0.03703034, -0.02573617,  0.02210415,  0.03003687,\n",
       "          0.03004918,  0.00258185, -0.03069384, -0.02059245,\n",
       "         -0.04027193, -0.0317071 ],\n",
       "        [-0.03703034, -0.02573617,  0.02210415,  0.03003687,\n",
       "          0.03004918,  0.00258185, -0.03069384, -0.02059245,\n",
       "         -0.04027193, -0.0317071 ],\n",
       "        [-0.03703034, -0.02573617,  0.02210415,  0.03003687,\n",
       "          0.03004918,  0.00258185, -0.03069384, -0.02059245,\n",
       "         -0.04027193, -0.0317071 ],\n",
       "        [ 0.03542848, -0.01942684, -0.02874262,  0.01722309,\n",
       "         -0.00364991,  0.02611634, -0.03038737,  0.01906658,\n",
       "          0.01432827, -0.03819399],\n",
       "        [ 0.00609369, -0.04163704, -0.0432124 , -0.04835493,\n",
       "         -0.03664433, -0.00322568,  0.0346309 , -0.03278437,\n",
       "         -0.02486088, -0.01143651],\n",
       "        [ 0.01435224, -0.03716635, -0.04368019, -0.04237601,\n",
       "         -0.01587695, -0.02103456,  0.00093176, -0.01305426,\n",
       "         -0.01221722, -0.02352349],\n",
       "        [-0.00626975, -0.0255417 , -0.0031038 , -0.04520549,\n",
       "         -0.02714704, -0.04198768, -0.03075204,  0.0480497 ,\n",
       "          0.02622021, -0.02502558],\n",
       "        [ 0.01636394,  0.00589502, -0.00031711,  0.00703203,\n",
       "          0.03839829,  0.02828005, -0.03335258,  0.00413539,\n",
       "          0.02326075, -0.04499858]],\n",
       "\n",
       "       [[-0.03703034, -0.02573617,  0.02210415,  0.03003687,\n",
       "          0.03004918,  0.00258185, -0.03069384, -0.02059245,\n",
       "         -0.04027193, -0.0317071 ],\n",
       "        [-0.03703034, -0.02573617,  0.02210415,  0.03003687,\n",
       "          0.03004918,  0.00258185, -0.03069384, -0.02059245,\n",
       "         -0.04027193, -0.0317071 ],\n",
       "        [-0.03703034, -0.02573617,  0.02210415,  0.03003687,\n",
       "          0.03004918,  0.00258185, -0.03069384, -0.02059245,\n",
       "         -0.04027193, -0.0317071 ],\n",
       "        [-0.03703034, -0.02573617,  0.02210415,  0.03003687,\n",
       "          0.03004918,  0.00258185, -0.03069384, -0.02059245,\n",
       "         -0.04027193, -0.0317071 ],\n",
       "        [ 0.02782552, -0.04211153, -0.01328265, -0.01668372,\n",
       "          0.0409979 , -0.02470685,  0.01444325, -0.0355498 ,\n",
       "          0.04064964,  0.02466467],\n",
       "        [ 0.04527733, -0.04835809,  0.04738906,  0.04396513,\n",
       "          0.03355234,  0.03638684, -0.0009601 , -0.04109105,\n",
       "         -0.00955068, -0.04283047],\n",
       "        [ 0.02856538,  0.01041391,  0.00250132,  0.03137746,\n",
       "         -0.01948681,  0.03271468,  0.03460935, -0.02528641,\n",
       "         -0.04154192, -0.049686  ],\n",
       "        [ 0.00928469, -0.04244244, -0.0364705 ,  0.00789421,\n",
       "          0.01534854,  0.00527681, -0.04754914,  0.03911812,\n",
       "         -0.04373522, -0.02442957]]], dtype=float32)"
      ]
     },
     "execution_count": 13,
     "metadata": {},
     "output_type": "execute_result"
    }
   ],
   "source": [
    "model.predict(embedded_docs)"
   ]
  },
  {
   "cell_type": "code",
   "execution_count": null,
   "metadata": {},
   "outputs": [],
   "source": []
  }
 ],
 "metadata": {
  "kernelspec": {
   "display_name": "Python 3",
   "language": "python",
   "name": "python3"
  },
  "language_info": {
   "codemirror_mode": {
    "name": "ipython",
    "version": 3
   },
   "file_extension": ".py",
   "mimetype": "text/x-python",
   "name": "python",
   "nbconvert_exporter": "python",
   "pygments_lexer": "ipython3",
   "version": "3.12.3"
  }
 },
 "nbformat": 4,
 "nbformat_minor": 2
}
