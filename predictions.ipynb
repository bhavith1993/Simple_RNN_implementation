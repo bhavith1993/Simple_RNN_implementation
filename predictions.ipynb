{
 "cells": [
  {
   "cell_type": "code",
   "execution_count": 5,
   "metadata": {},
   "outputs": [],
   "source": [
    "import numpy as np\n",
    "import tensorflow as tf  \n",
    "from tensorflow.keras.datasets import imdb\n",
    "from tensorflow.keras.preprocessing import sequence\n",
    "from tensorflow.keras.callbacks import EarlyStopping\n",
    "from tensorflow.keras.models import Sequential,load_model\n",
    "from tensorflow.keras.layers import Embedding, SimpleRNN, Dense"
   ]
  },
  {
   "cell_type": "code",
   "execution_count": 6,
   "metadata": {},
   "outputs": [],
   "source": [
    "# load the IMDB word index\n",
    "word_index = imdb.get_word_index()\n",
    "reverse_word_index = {value: key for (key, value) in word_index.items()}"
   ]
  },
  {
   "cell_type": "code",
   "execution_count": 7,
   "metadata": {},
   "outputs": [
    {
     "name": "stderr",
     "output_type": "stream",
     "text": [
      "WARNING:absl:Compiled the loaded model, but the compiled metrics have yet to be built. `model.compile_metrics` will be empty until you train or evaluate the model.\n"
     ]
    }
   ],
   "source": [
    "# Load the model\n",
    "model = load_model('simple_rnn_model.h5')"
   ]
  },
  {
   "cell_type": "code",
   "execution_count": 8,
   "metadata": {},
   "outputs": [
    {
     "data": {
      "text/html": [
       "<pre style=\"white-space:pre;overflow-x:auto;line-height:normal;font-family:Menlo,'DejaVu Sans Mono',consolas,'Courier New',monospace\"><span style=\"font-weight: bold\">Model: \"sequential\"</span>\n",
       "</pre>\n"
      ],
      "text/plain": [
       "\u001b[1mModel: \"sequential\"\u001b[0m\n"
      ]
     },
     "metadata": {},
     "output_type": "display_data"
    },
    {
     "data": {
      "text/html": [
       "<pre style=\"white-space:pre;overflow-x:auto;line-height:normal;font-family:Menlo,'DejaVu Sans Mono',consolas,'Courier New',monospace\">┏━━━━━━━━━━━━━━━━━━━━━━━━━━━━━━━━━┳━━━━━━━━━━━━━━━━━━━━━━━━┳━━━━━━━━━━━━━━━┓\n",
       "┃<span style=\"font-weight: bold\"> Layer (type)                    </span>┃<span style=\"font-weight: bold\"> Output Shape           </span>┃<span style=\"font-weight: bold\">       Param # </span>┃\n",
       "┡━━━━━━━━━━━━━━━━━━━━━━━━━━━━━━━━━╇━━━━━━━━━━━━━━━━━━━━━━━━╇━━━━━━━━━━━━━━━┩\n",
       "│ embedding (<span style=\"color: #0087ff; text-decoration-color: #0087ff\">Embedding</span>)           │ (<span style=\"color: #00af00; text-decoration-color: #00af00\">32</span>, <span style=\"color: #00af00; text-decoration-color: #00af00\">500</span>, <span style=\"color: #00af00; text-decoration-color: #00af00\">128</span>)         │     <span style=\"color: #00af00; text-decoration-color: #00af00\">1,280,000</span> │\n",
       "├─────────────────────────────────┼────────────────────────┼───────────────┤\n",
       "│ simple_rnn (<span style=\"color: #0087ff; text-decoration-color: #0087ff\">SimpleRNN</span>)          │ (<span style=\"color: #00af00; text-decoration-color: #00af00\">32</span>, <span style=\"color: #00af00; text-decoration-color: #00af00\">128</span>)              │        <span style=\"color: #00af00; text-decoration-color: #00af00\">32,896</span> │\n",
       "├─────────────────────────────────┼────────────────────────┼───────────────┤\n",
       "│ dense (<span style=\"color: #0087ff; text-decoration-color: #0087ff\">Dense</span>)                   │ (<span style=\"color: #00af00; text-decoration-color: #00af00\">32</span>, <span style=\"color: #00af00; text-decoration-color: #00af00\">1</span>)                │           <span style=\"color: #00af00; text-decoration-color: #00af00\">129</span> │\n",
       "└─────────────────────────────────┴────────────────────────┴───────────────┘\n",
       "</pre>\n"
      ],
      "text/plain": [
       "┏━━━━━━━━━━━━━━━━━━━━━━━━━━━━━━━━━┳━━━━━━━━━━━━━━━━━━━━━━━━┳━━━━━━━━━━━━━━━┓\n",
       "┃\u001b[1m \u001b[0m\u001b[1mLayer (type)                   \u001b[0m\u001b[1m \u001b[0m┃\u001b[1m \u001b[0m\u001b[1mOutput Shape          \u001b[0m\u001b[1m \u001b[0m┃\u001b[1m \u001b[0m\u001b[1m      Param #\u001b[0m\u001b[1m \u001b[0m┃\n",
       "┡━━━━━━━━━━━━━━━━━━━━━━━━━━━━━━━━━╇━━━━━━━━━━━━━━━━━━━━━━━━╇━━━━━━━━━━━━━━━┩\n",
       "│ embedding (\u001b[38;5;33mEmbedding\u001b[0m)           │ (\u001b[38;5;34m32\u001b[0m, \u001b[38;5;34m500\u001b[0m, \u001b[38;5;34m128\u001b[0m)         │     \u001b[38;5;34m1,280,000\u001b[0m │\n",
       "├─────────────────────────────────┼────────────────────────┼───────────────┤\n",
       "│ simple_rnn (\u001b[38;5;33mSimpleRNN\u001b[0m)          │ (\u001b[38;5;34m32\u001b[0m, \u001b[38;5;34m128\u001b[0m)              │        \u001b[38;5;34m32,896\u001b[0m │\n",
       "├─────────────────────────────────┼────────────────────────┼───────────────┤\n",
       "│ dense (\u001b[38;5;33mDense\u001b[0m)                   │ (\u001b[38;5;34m32\u001b[0m, \u001b[38;5;34m1\u001b[0m)                │           \u001b[38;5;34m129\u001b[0m │\n",
       "└─────────────────────────────────┴────────────────────────┴───────────────┘\n"
      ]
     },
     "metadata": {},
     "output_type": "display_data"
    },
    {
     "data": {
      "text/html": [
       "<pre style=\"white-space:pre;overflow-x:auto;line-height:normal;font-family:Menlo,'DejaVu Sans Mono',consolas,'Courier New',monospace\"><span style=\"font-weight: bold\"> Total params: </span><span style=\"color: #00af00; text-decoration-color: #00af00\">1,313,027</span> (5.01 MB)\n",
       "</pre>\n"
      ],
      "text/plain": [
       "\u001b[1m Total params: \u001b[0m\u001b[38;5;34m1,313,027\u001b[0m (5.01 MB)\n"
      ]
     },
     "metadata": {},
     "output_type": "display_data"
    },
    {
     "data": {
      "text/html": [
       "<pre style=\"white-space:pre;overflow-x:auto;line-height:normal;font-family:Menlo,'DejaVu Sans Mono',consolas,'Courier New',monospace\"><span style=\"font-weight: bold\"> Trainable params: </span><span style=\"color: #00af00; text-decoration-color: #00af00\">1,313,025</span> (5.01 MB)\n",
       "</pre>\n"
      ],
      "text/plain": [
       "\u001b[1m Trainable params: \u001b[0m\u001b[38;5;34m1,313,025\u001b[0m (5.01 MB)\n"
      ]
     },
     "metadata": {},
     "output_type": "display_data"
    },
    {
     "data": {
      "text/html": [
       "<pre style=\"white-space:pre;overflow-x:auto;line-height:normal;font-family:Menlo,'DejaVu Sans Mono',consolas,'Courier New',monospace\"><span style=\"font-weight: bold\"> Non-trainable params: </span><span style=\"color: #00af00; text-decoration-color: #00af00\">0</span> (0.00 B)\n",
       "</pre>\n"
      ],
      "text/plain": [
       "\u001b[1m Non-trainable params: \u001b[0m\u001b[38;5;34m0\u001b[0m (0.00 B)\n"
      ]
     },
     "metadata": {},
     "output_type": "display_data"
    },
    {
     "data": {
      "text/html": [
       "<pre style=\"white-space:pre;overflow-x:auto;line-height:normal;font-family:Menlo,'DejaVu Sans Mono',consolas,'Courier New',monospace\"><span style=\"font-weight: bold\"> Optimizer params: </span><span style=\"color: #00af00; text-decoration-color: #00af00\">2</span> (12.00 B)\n",
       "</pre>\n"
      ],
      "text/plain": [
       "\u001b[1m Optimizer params: \u001b[0m\u001b[38;5;34m2\u001b[0m (12.00 B)\n"
      ]
     },
     "metadata": {},
     "output_type": "display_data"
    }
   ],
   "source": [
    "model.summary()"
   ]
  },
  {
   "cell_type": "code",
   "execution_count": 9,
   "metadata": {},
   "outputs": [
    {
     "data": {
      "text/plain": [
       "[array([[ 0.4478512 ,  0.88663626,  0.43327767, ..., -0.57397217,\n",
       "          0.35345003,  0.61526036],\n",
       "        [-0.03918439,  0.0476157 , -0.02810626, ..., -0.07757533,\n",
       "         -0.04326005,  0.01311958],\n",
       "        [-0.0238227 , -0.00736904, -0.10378778, ..., -0.01897091,\n",
       "         -0.11904119, -0.01428858],\n",
       "        ...,\n",
       "        [ 0.09677036,  0.02761277,  0.07478484, ..., -0.06643724,\n",
       "          0.05041086, -0.04450084],\n",
       "        [-0.00781442, -0.02282949, -0.05136054, ...,  0.00172431,\n",
       "         -0.060675  , -0.08528234],\n",
       "        [ 0.09952649,  0.04802437,  0.11084554, ...,  0.00289559,\n",
       "          0.08714084,  0.10571098]], dtype=float32),\n",
       " array([[ 0.0932107 , -0.10408216,  0.21872927, ...,  0.030778  ,\n",
       "         -0.03220024,  0.0920652 ],\n",
       "        [-0.1535027 ,  0.12766062,  0.00836831, ..., -0.18289982,\n",
       "         -0.17854333,  0.09519236],\n",
       "        [-0.01990576,  0.02426909, -0.02803184, ...,  0.0787615 ,\n",
       "         -0.12523213,  0.02405143],\n",
       "        ...,\n",
       "        [ 0.15339644,  0.03432757,  0.04526129, ...,  0.06437898,\n",
       "          0.21271054,  0.04474607],\n",
       "        [-0.10150147,  0.06845502,  0.1366047 , ...,  0.01384109,\n",
       "          0.04912747, -0.15244108],\n",
       "        [-0.08747805, -0.24333447,  0.14173971, ..., -0.08758374,\n",
       "         -0.09305345,  0.0226634 ]], dtype=float32),\n",
       " array([[-0.00862278, -0.04495544, -0.07766209, ...,  0.05609534,\n",
       "          0.05511245,  0.09670725],\n",
       "        [-0.00556167, -0.12304421,  0.0390217 , ...,  0.16893515,\n",
       "          0.06837494, -0.00857127],\n",
       "        [ 0.06013082,  0.00607237, -0.04957173, ...,  0.06340966,\n",
       "         -0.12669033,  0.08013766],\n",
       "        ...,\n",
       "        [-0.06640073, -0.08744814, -0.03871254, ..., -0.04162159,\n",
       "         -0.10407293,  0.00129013],\n",
       "        [-0.05956588,  0.17579375,  0.03325202, ..., -0.04711287,\n",
       "         -0.11338498, -0.11190755],\n",
       "        [ 0.07027195, -0.07905684, -0.02266419, ...,  0.04581285,\n",
       "          0.14294888,  0.13109566]], dtype=float32),\n",
       " array([-0.01352414, -0.04121748,  0.00029528, -0.04377165, -0.05072169,\n",
       "        -0.02384975,  0.00380704, -0.04861189, -0.02292699,  0.00890854,\n",
       "        -0.00825902, -0.02176308,  0.01032727, -0.03645022, -0.03370186,\n",
       "        -0.01276296, -0.03183466,  0.01497246,  0.03335495, -0.02868514,\n",
       "        -0.01528712, -0.02394842, -0.00234265, -0.03008048, -0.0328734 ,\n",
       "         0.0067764 ,  0.03607887, -0.0304207 ,  0.00106851, -0.02424391,\n",
       "        -0.00552184, -0.05510089, -0.02714899, -0.00411728, -0.0225083 ,\n",
       "        -0.00270491, -0.03837591,  0.00682633, -0.02597112, -0.02913218,\n",
       "        -0.0278384 , -0.00826509, -0.00876871, -0.01443011, -0.04879502,\n",
       "        -0.02499849,  0.00068927, -0.04402192, -0.02759213,  0.01885827,\n",
       "        -0.01760951, -0.03399638, -0.04217301,  0.01050167, -0.02108686,\n",
       "        -0.02940987,  0.06784913,  0.01246302, -0.02149432, -0.00479495,\n",
       "        -0.00046934, -0.00568436, -0.02316276, -0.00890789, -0.01721756,\n",
       "        -0.01306454, -0.02554871, -0.02480185, -0.01273034, -0.00194987,\n",
       "        -0.02923756, -0.03512397, -0.02936278, -0.01787596, -0.01154268,\n",
       "         0.00904244, -0.0065173 , -0.02292327,  0.00962106, -0.01732451,\n",
       "         0.00385186,  0.0012918 ,  0.01023792, -0.02650017,  0.01080509,\n",
       "        -0.03101505,  0.00927351, -0.02369039, -0.02224374, -0.01640472,\n",
       "        -0.00592341, -0.0036259 , -0.02498548,  0.00297756, -0.01449825,\n",
       "        -0.03056642, -0.01504385, -0.02334554, -0.02946503, -0.0372774 ,\n",
       "         0.03136531, -0.02004659, -0.02231458, -0.0599099 , -0.027703  ,\n",
       "        -0.03432896, -0.01320861, -0.00422824, -0.0607528 , -0.01307224,\n",
       "        -0.00684285, -0.01411263, -0.02008219, -0.02961714, -0.03541432,\n",
       "         0.04219028, -0.04024607,  0.00105114, -0.01328288, -0.03559764,\n",
       "         0.00720481, -0.03144788, -0.00609638,  0.00846298,  0.00559505,\n",
       "        -0.04868881,  0.013875  , -0.00064583], dtype=float32),\n",
       " array([[ 2.57221162e-01],\n",
       "        [ 5.37498593e-02],\n",
       "        [-1.35773033e-01],\n",
       "        [ 7.56357051e-03],\n",
       "        [-1.64040420e-02],\n",
       "        [-1.87404022e-01],\n",
       "        [ 1.17154211e-01],\n",
       "        [-9.83200073e-02],\n",
       "        [-1.40225798e-01],\n",
       "        [-6.72972808e-03],\n",
       "        [ 1.78916931e-01],\n",
       "        [-1.53696537e-01],\n",
       "        [-2.36848459e-01],\n",
       "        [-9.19341967e-02],\n",
       "        [ 6.21074699e-02],\n",
       "        [ 1.57062292e-01],\n",
       "        [-1.90564230e-01],\n",
       "        [-1.62148044e-01],\n",
       "        [-7.36364797e-02],\n",
       "        [ 1.17767692e-01],\n",
       "        [ 1.63238212e-01],\n",
       "        [-9.74809984e-04],\n",
       "        [ 3.22979093e-01],\n",
       "        [ 1.55310869e-01],\n",
       "        [ 2.58297682e-01],\n",
       "        [ 2.43912086e-01],\n",
       "        [ 4.73037213e-01],\n",
       "        [-9.09593254e-02],\n",
       "        [-1.12037130e-01],\n",
       "        [-1.03474371e-01],\n",
       "        [-3.99260484e-02],\n",
       "        [ 6.02005422e-02],\n",
       "        [ 1.69978246e-01],\n",
       "        [ 2.12652549e-01],\n",
       "        [-4.08626609e-02],\n",
       "        [-2.46942848e-01],\n",
       "        [ 1.48151726e-01],\n",
       "        [ 2.37990886e-01],\n",
       "        [ 1.94284394e-01],\n",
       "        [ 2.48719141e-01],\n",
       "        [ 7.90927559e-02],\n",
       "        [-1.67420551e-01],\n",
       "        [ 4.04716253e-01],\n",
       "        [-1.83009595e-01],\n",
       "        [-1.23129979e-01],\n",
       "        [ 8.12099501e-02],\n",
       "        [ 4.65942957e-02],\n",
       "        [ 1.38692141e-01],\n",
       "        [-2.14420065e-01],\n",
       "        [-1.10583365e-01],\n",
       "        [ 7.65540227e-02],\n",
       "        [-1.60319626e-01],\n",
       "        [ 3.45455483e-02],\n",
       "        [ 1.84845343e-01],\n",
       "        [ 3.87932099e-02],\n",
       "        [ 1.64435983e-01],\n",
       "        [-1.01801954e-01],\n",
       "        [ 7.16169700e-02],\n",
       "        [-1.18397316e-02],\n",
       "        [-6.48468956e-02],\n",
       "        [-2.18087852e-01],\n",
       "        [ 1.59224913e-01],\n",
       "        [-2.67475974e-02],\n",
       "        [-4.04374450e-02],\n",
       "        [-1.08620048e-01],\n",
       "        [ 3.41749564e-02],\n",
       "        [-3.15350026e-01],\n",
       "        [ 1.43460661e-01],\n",
       "        [ 5.78415673e-03],\n",
       "        [-4.92315032e-02],\n",
       "        [-1.43649802e-01],\n",
       "        [ 8.93520098e-03],\n",
       "        [ 3.25839281e-01],\n",
       "        [-6.12143986e-02],\n",
       "        [-1.16148070e-01],\n",
       "        [-3.47547144e-01],\n",
       "        [ 4.84084487e-02],\n",
       "        [ 1.68218881e-01],\n",
       "        [ 4.27809477e-01],\n",
       "        [ 1.69809580e-01],\n",
       "        [ 3.07552636e-01],\n",
       "        [ 4.15084392e-01],\n",
       "        [-2.09068388e-01],\n",
       "        [ 2.20145047e-01],\n",
       "        [ 2.31590986e-01],\n",
       "        [ 1.76332565e-03],\n",
       "        [ 2.62992382e-01],\n",
       "        [ 2.20371589e-01],\n",
       "        [-5.93103170e-01],\n",
       "        [ 1.28597589e-02],\n",
       "        [ 5.52174747e-02],\n",
       "        [-1.08990453e-01],\n",
       "        [-2.35957708e-02],\n",
       "        [ 6.31251931e-02],\n",
       "        [-2.15745494e-01],\n",
       "        [-1.25391871e-01],\n",
       "        [ 4.06954676e-01],\n",
       "        [-7.26319626e-02],\n",
       "        [-1.67146638e-01],\n",
       "        [-2.17853487e-02],\n",
       "        [ 2.20066041e-01],\n",
       "        [-7.36008883e-02],\n",
       "        [ 1.12325393e-01],\n",
       "        [ 3.00039709e-01],\n",
       "        [ 1.94401816e-01],\n",
       "        [-6.07356489e-01],\n",
       "        [-1.66266754e-01],\n",
       "        [ 8.02003384e-01],\n",
       "        [-6.84657022e-02],\n",
       "        [ 1.95900038e-01],\n",
       "        [ 7.23876990e-04],\n",
       "        [ 3.77149731e-01],\n",
       "        [ 2.46950477e-01],\n",
       "        [-2.82098591e-01],\n",
       "        [-2.84788460e-01],\n",
       "        [-7.75433257e-02],\n",
       "        [-2.77124401e-02],\n",
       "        [ 1.51075527e-01],\n",
       "        [ 2.27537811e-01],\n",
       "        [-3.94959897e-02],\n",
       "        [-4.99370322e-02],\n",
       "        [-2.55457819e-01],\n",
       "        [-1.54592142e-01],\n",
       "        [ 2.59716958e-01],\n",
       "        [-8.69838819e-02],\n",
       "        [-2.17239223e-02],\n",
       "        [-1.51842803e-01],\n",
       "        [ 1.78336903e-01]], dtype=float32),\n",
       " array([0.38534778], dtype=float32)]"
      ]
     },
     "execution_count": 9,
     "metadata": {},
     "output_type": "execute_result"
    }
   ],
   "source": [
    "model.get_weights()"
   ]
  },
  {
   "cell_type": "code",
   "execution_count": 10,
   "metadata": {},
   "outputs": [],
   "source": [
    "# Step 2: Helper function\n",
    "\n",
    "# Function to decode reviews \n",
    "\n",
    "def decode_review(encoded_review):\n",
    "    return ' '.join([reverse_word_index.get(i, '?') for i in encoded_review])\n",
    "\n",
    "# Function to preprocess user input\n",
    "def preprocess_text(text):\n",
    "    words = text.lower().split()\n",
    "    encoded_review = [word_index.get(word,2)+3 for word in words]\n",
    "    padded_review = sequence.pad_sequences([encoded_review], maxlen=500)\n",
    "    return padded_review"
   ]
  },
  {
   "cell_type": "code",
   "execution_count": 14,
   "metadata": {},
   "outputs": [],
   "source": [
    "## Prediction function\n",
    "\n",
    "def predict_sentiment(review):\n",
    "    preprocessed_input=preprocess_text(review)\n",
    "    \n",
    "    prediction=model.predict(preprocessed_input)\n",
    "    \n",
    "    sentiment = 'Positive' if prediction > 0.5 else 'Negative'\n",
    "    \n",
    "    return sentiment, prediction[0][0]\n",
    "    "
   ]
  },
  {
   "cell_type": "code",
   "execution_count": 15,
   "metadata": {},
   "outputs": [
    {
     "name": "stdout",
     "output_type": "stream",
     "text": [
      "\u001b[1m1/1\u001b[0m \u001b[32m━━━━━━━━━━━━━━━━━━━━\u001b[0m\u001b[37m\u001b[0m \u001b[1m1s\u001b[0m 858ms/step\n",
      "Review: this movie was fantastic! the actors were amazing and the plot was great\n",
      "Sentiment: Positive\n",
      "Score: 0.7928054928779602\n"
     ]
    }
   ],
   "source": [
    "# Example review \n",
    "\n",
    "example_review = \"this movie was fantastic! the actors were amazing and the plot was great\"\n",
    "\n",
    "sentiment,score = predict_sentiment(example_review)\n",
    "\n",
    "print(f'Review: {example_review}')\n",
    "print(f'Sentiment: {sentiment}')\n",
    "print(f'Score: {score}')"
   ]
  }
 ],
 "metadata": {
  "kernelspec": {
   "display_name": "Python 3",
   "language": "python",
   "name": "python3"
  },
  "language_info": {
   "codemirror_mode": {
    "name": "ipython",
    "version": 3
   },
   "file_extension": ".py",
   "mimetype": "text/x-python",
   "name": "python",
   "nbconvert_exporter": "python",
   "pygments_lexer": "ipython3",
   "version": "3.11.0"
  }
 },
 "nbformat": 4,
 "nbformat_minor": 2
}
